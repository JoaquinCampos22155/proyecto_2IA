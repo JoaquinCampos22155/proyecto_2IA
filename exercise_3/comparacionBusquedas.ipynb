{
 "cells": [
  {
   "cell_type": "markdown",
   "id": "d5a79687",
   "metadata": {},
   "source": [
    "# Ejercicio 3: Comparación de algoritmos de búsqueda\n",
    "\n",
    "Este notebook genera K laberintos, resuelve cada uno con 4 algoritmos y muestra:\n",
    "\n",
    "1. Un DataFrame interactivo con todos los experimentos  \n",
    "2. Un resumen promedio\n",
    "3. Gráficos de barras para nodos expandidos y tiempos  \n"
   ]
  },
  {
   "cell_type": "code",
   "execution_count": 1,
   "id": "4ff3744b",
   "metadata": {},
   "outputs": [],
   "source": [
    "# 1) Imports y configuración\n",
    "import pandas as pd\n",
    "import matplotlib.pyplot as plt\n",
    "from experimentos import run_experiments\n",
    "from reporte import analyze_results\n",
    "\n",
    "# Para que los DataFrame se vean mejor en Jupyter:\n",
    "pd.set_option('display.max_rows', 10)\n",
    "pd.set_option('display.max_columns', None)"
   ]
  },
  {
   "cell_type": "code",
   "execution_count": 2,
   "id": "869cab95",
   "metadata": {},
   "outputs": [],
   "source": [
    "# 2) Correr los experimentos (ajusta rows, cols, mazes si deseas)\n",
    "df = run_experiments(rows=45, cols=55, k=25)"
   ]
  },
  {
   "cell_type": "code",
   "execution_count": 3,
   "id": "b010887a",
   "metadata": {},
   "outputs": [
    {
     "data": {
      "text/html": [
       "<div>\n",
       "<style scoped>\n",
       "    .dataframe tbody tr th:only-of-type {\n",
       "        vertical-align: middle;\n",
       "    }\n",
       "\n",
       "    .dataframe tbody tr th {\n",
       "        vertical-align: top;\n",
       "    }\n",
       "\n",
       "    .dataframe thead th {\n",
       "        text-align: right;\n",
       "    }\n",
       "</style>\n",
       "<table border=\"1\" class=\"dataframe\">\n",
       "  <thead>\n",
       "    <tr style=\"text-align: right;\">\n",
       "      <th></th>\n",
       "      <th>Maze</th>\n",
       "      <th>Algorithm</th>\n",
       "      <th>Distance</th>\n",
       "      <th>Expanded</th>\n",
       "      <th>Time_s</th>\n",
       "    </tr>\n",
       "  </thead>\n",
       "  <tbody>\n",
       "    <tr>\n",
       "      <th>0</th>\n",
       "      <td>1</td>\n",
       "      <td>DFS</td>\n",
       "      <td>194</td>\n",
       "      <td>203</td>\n",
       "      <td>0.000421</td>\n",
       "    </tr>\n",
       "    <tr>\n",
       "      <th>1</th>\n",
       "      <td>1</td>\n",
       "      <td>BFS</td>\n",
       "      <td>194</td>\n",
       "      <td>692</td>\n",
       "      <td>0.001074</td>\n",
       "    </tr>\n",
       "    <tr>\n",
       "      <th>2</th>\n",
       "      <td>1</td>\n",
       "      <td>Dijkstra</td>\n",
       "      <td>194</td>\n",
       "      <td>688</td>\n",
       "      <td>0.001477</td>\n",
       "    </tr>\n",
       "    <tr>\n",
       "      <th>3</th>\n",
       "      <td>1</td>\n",
       "      <td>A*</td>\n",
       "      <td>194</td>\n",
       "      <td>552</td>\n",
       "      <td>0.001205</td>\n",
       "    </tr>\n",
       "    <tr>\n",
       "      <th>4</th>\n",
       "      <td>2</td>\n",
       "      <td>DFS</td>\n",
       "      <td>622</td>\n",
       "      <td>827</td>\n",
       "      <td>0.002280</td>\n",
       "    </tr>\n",
       "    <tr>\n",
       "      <th>5</th>\n",
       "      <td>2</td>\n",
       "      <td>BFS</td>\n",
       "      <td>622</td>\n",
       "      <td>959</td>\n",
       "      <td>0.002201</td>\n",
       "    </tr>\n",
       "    <tr>\n",
       "      <th>6</th>\n",
       "      <td>2</td>\n",
       "      <td>Dijkstra</td>\n",
       "      <td>622</td>\n",
       "      <td>956</td>\n",
       "      <td>0.002433</td>\n",
       "    </tr>\n",
       "    <tr>\n",
       "      <th>7</th>\n",
       "      <td>2</td>\n",
       "      <td>A*</td>\n",
       "      <td>622</td>\n",
       "      <td>905</td>\n",
       "      <td>0.002452</td>\n",
       "    </tr>\n",
       "    <tr>\n",
       "      <th>8</th>\n",
       "      <td>3</td>\n",
       "      <td>DFS</td>\n",
       "      <td>48</td>\n",
       "      <td>1141</td>\n",
       "      <td>0.002871</td>\n",
       "    </tr>\n",
       "    <tr>\n",
       "      <th>9</th>\n",
       "      <td>3</td>\n",
       "      <td>BFS</td>\n",
       "      <td>48</td>\n",
       "      <td>104</td>\n",
       "      <td>0.000134</td>\n",
       "    </tr>\n",
       "  </tbody>\n",
       "</table>\n",
       "</div>"
      ],
      "text/plain": [
       "   Maze Algorithm  Distance  Expanded    Time_s\n",
       "0     1       DFS       194       203  0.000421\n",
       "1     1       BFS       194       692  0.001074\n",
       "2     1  Dijkstra       194       688  0.001477\n",
       "3     1        A*       194       552  0.001205\n",
       "4     2       DFS       622       827  0.002280\n",
       "5     2       BFS       622       959  0.002201\n",
       "6     2  Dijkstra       622       956  0.002433\n",
       "7     2        A*       622       905  0.002452\n",
       "8     3       DFS        48      1141  0.002871\n",
       "9     3       BFS        48       104  0.000134"
      ]
     },
     "execution_count": 3,
     "metadata": {},
     "output_type": "execute_result"
    }
   ],
   "source": [
    "# 3) Mostrar los primeros resultados\n",
    "df.head(10)"
   ]
  },
  {
   "cell_type": "code",
   "execution_count": 4,
   "id": "16356082",
   "metadata": {},
   "outputs": [
    {
     "data": {
      "text/html": [
       "<div>\n",
       "<style scoped>\n",
       "    .dataframe tbody tr th:only-of-type {\n",
       "        vertical-align: middle;\n",
       "    }\n",
       "\n",
       "    .dataframe tbody tr th {\n",
       "        vertical-align: top;\n",
       "    }\n",
       "\n",
       "    .dataframe thead th {\n",
       "        text-align: right;\n",
       "    }\n",
       "</style>\n",
       "<table border=\"1\" class=\"dataframe\">\n",
       "  <thead>\n",
       "    <tr style=\"text-align: right;\">\n",
       "      <th></th>\n",
       "      <th>Distance</th>\n",
       "      <th>Expanded</th>\n",
       "      <th>Time_s</th>\n",
       "      <th>Place</th>\n",
       "    </tr>\n",
       "    <tr>\n",
       "      <th>Algorithm</th>\n",
       "      <th></th>\n",
       "      <th></th>\n",
       "      <th></th>\n",
       "      <th></th>\n",
       "    </tr>\n",
       "  </thead>\n",
       "  <tbody>\n",
       "    <tr>\n",
       "      <th>A*</th>\n",
       "      <td>234.2</td>\n",
       "      <td>580.72</td>\n",
       "      <td>0.001317</td>\n",
       "      <td>1.60</td>\n",
       "    </tr>\n",
       "    <tr>\n",
       "      <th>DFS</th>\n",
       "      <td>234.2</td>\n",
       "      <td>670.44</td>\n",
       "      <td>0.001364</td>\n",
       "      <td>2.20</td>\n",
       "    </tr>\n",
       "    <tr>\n",
       "      <th>BFS</th>\n",
       "      <td>234.2</td>\n",
       "      <td>632.64</td>\n",
       "      <td>0.000945</td>\n",
       "      <td>3.04</td>\n",
       "    </tr>\n",
       "    <tr>\n",
       "      <th>Dijkstra</th>\n",
       "      <td>234.2</td>\n",
       "      <td>632.24</td>\n",
       "      <td>0.001307</td>\n",
       "      <td>3.16</td>\n",
       "    </tr>\n",
       "  </tbody>\n",
       "</table>\n",
       "</div>"
      ],
      "text/plain": [
       "           Distance  Expanded    Time_s  Place\n",
       "Algorithm                                     \n",
       "A*            234.2    580.72  0.001317   1.60\n",
       "DFS           234.2    670.44  0.001364   2.20\n",
       "BFS           234.2    632.64  0.000945   3.04\n",
       "Dijkstra      234.2    632.24  0.001307   3.16"
      ]
     },
     "execution_count": 4,
     "metadata": {},
     "output_type": "execute_result"
    }
   ],
   "source": [
    "# 4) Calcular y mostrar el resumen promedio\n",
    "summary = analyze_results(df)\n",
    "summary"
   ]
  },
  {
   "cell_type": "code",
   "execution_count": 5,
   "id": "db207551",
   "metadata": {},
   "outputs": [
    {
     "data": {
      "image/png": "[encoded data removed]",
      "text/plain": [
       "<Figure size 800x400 with 1 Axes>"
      ]
     },
     "metadata": {},
     "output_type": "display_data"
    }
   ],
   "source": [
    "# 5) Gráfico: promedio de nodos expandidos por algoritmo\n",
    "plt.figure(figsize=(8,4))\n",
    "summary['Expanded'].plot.bar()\n",
    "plt.title('Promedio de nodos expandidos')\n",
    "plt.ylabel('Nodos expandidos')\n",
    "plt.xlabel('Algoritmo')\n",
    "plt.tight_layout()\n",
    "plt.show()"
   ]
  },
  {
   "cell_type": "code",
   "execution_count": 6,
   "id": "8b7be3cd",
   "metadata": {},
   "outputs": [
    {
     "data": {
      "image/png": "[encoded data removed]",
      "text/plain": [
       "<Figure size 800x400 with 1 Axes>"
      ]
     },
     "metadata": {},
     "output_type": "display_data"
    }
   ],
   "source": [
    "# 6) Gráfico: promedio de tiempo de ejecución por algoritmo\n",
    "plt.figure(figsize=(8,4))\n",
    "summary['Time_s'].plot.bar()\n",
    "plt.title('Promedio de tiempo (s)')\n",
    "plt.ylabel('Segundos')\n",
    "plt.xlabel('Algoritmo')\n",
    "plt.tight_layout()\n",
    "plt.show()"
   ]
  }
 ],
 "metadata": {
  "kernelspec": {
   "display_name": "Python (venv311)",
   "language": "python",
   "name": "venv311"
  },
  "language_info": {
   "codemirror_mode": {
    "name": "ipython",
    "version": 3
   },
   "file_extension": ".py",
   "mimetype": "text/x-python",
   "name": "python",
   "nbconvert_exporter": "python",
   "pygments_lexer": "ipython3",
   "version": "3.13.3"
  }
 },
 "nbformat": 4,
 "nbformat_minor": 5
}
