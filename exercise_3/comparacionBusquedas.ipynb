{
 "cells": [
  {
   "cell_type": "markdown",
   "id": "d5a79687",
   "metadata": {},
   "source": [
    "# Ejercicio 3: Comparación de algoritmos de búsqueda\n",
    "\n",
    "Este notebook genera K laberintos, resuelve cada uno con 4 algoritmos y muestra:\n",
    "\n",
    "1. Un DataFrame interactivo con todos los experimentos  \n",
    "2. Un resumen promedio\n",
    "3. Gráficos de barras para nodos expandidos y tiempos  \n"
   ]
  },
  {
   "cell_type": "code",
   "execution_count": 34,
   "id": "4ff3744b",
   "metadata": {},
   "outputs": [],
   "source": [
    "# 1) Imports y configuración\n",
    "import pandas as pd\n",
    "import matplotlib.pyplot as plt\n",
    "from experimentos import run_experiments\n",
    "from reporte import analyze_results\n",
    "\n",
    "# Para que los DataFrame se vean mejor en Jupyter:\n",
    "pd.set_option('display.max_rows', 10)\n",
    "pd.set_option('display.max_columns', None)"
   ]
  },
  {
   "cell_type": "code",
   "execution_count": 35,
   "id": "869cab95",
   "metadata": {},
   "outputs": [],
   "source": [
    "# 2) Correr los experimentos (ajusta rows, cols, mazes si deseas)\n",
    "df = run_experiments(rows=45, cols=55, k=25)"
   ]
  },
  {
   "cell_type": "code",
   "execution_count": 36,
   "id": "b010887a",
   "metadata": {},
   "outputs": [
    {
     "data": {
      "text/html": [
       "<div>\n",
       "<style scoped>\n",
       "    .dataframe tbody tr th:only-of-type {\n",
       "        vertical-align: middle;\n",
       "    }\n",
       "\n",
       "    .dataframe tbody tr th {\n",
       "        vertical-align: top;\n",
       "    }\n",
       "\n",
       "    .dataframe thead th {\n",
       "        text-align: right;\n",
       "    }\n",
       "</style>\n",
       "<table border=\"1\" class=\"dataframe\">\n",
       "  <thead>\n",
       "    <tr style=\"text-align: right;\">\n",
       "      <th></th>\n",
       "      <th>Maze</th>\n",
       "      <th>Algorithm</th>\n",
       "      <th>Distance</th>\n",
       "      <th>Expanded</th>\n",
       "      <th>Time_s</th>\n",
       "    </tr>\n",
       "  </thead>\n",
       "  <tbody>\n",
       "    <tr>\n",
       "      <th>0</th>\n",
       "      <td>1</td>\n",
       "      <td>DFS</td>\n",
       "      <td>58</td>\n",
       "      <td>1282</td>\n",
       "      <td>0.004187</td>\n",
       "    </tr>\n",
       "    <tr>\n",
       "      <th>1</th>\n",
       "      <td>1</td>\n",
       "      <td>BFS</td>\n",
       "      <td>58</td>\n",
       "      <td>126</td>\n",
       "      <td>0.000182</td>\n",
       "    </tr>\n",
       "    <tr>\n",
       "      <th>2</th>\n",
       "      <td>1</td>\n",
       "      <td>Dijkstra</td>\n",
       "      <td>58</td>\n",
       "      <td>127</td>\n",
       "      <td>0.000227</td>\n",
       "    </tr>\n",
       "    <tr>\n",
       "      <th>3</th>\n",
       "      <td>1</td>\n",
       "      <td>A*</td>\n",
       "      <td>58</td>\n",
       "      <td>122</td>\n",
       "      <td>0.000247</td>\n",
       "    </tr>\n",
       "    <tr>\n",
       "      <th>4</th>\n",
       "      <td>2</td>\n",
       "      <td>DFS</td>\n",
       "      <td>169</td>\n",
       "      <td>844</td>\n",
       "      <td>0.001838</td>\n",
       "    </tr>\n",
       "    <tr>\n",
       "      <th>5</th>\n",
       "      <td>2</td>\n",
       "      <td>BFS</td>\n",
       "      <td>169</td>\n",
       "      <td>515</td>\n",
       "      <td>0.000735</td>\n",
       "    </tr>\n",
       "    <tr>\n",
       "      <th>6</th>\n",
       "      <td>2</td>\n",
       "      <td>Dijkstra</td>\n",
       "      <td>169</td>\n",
       "      <td>514</td>\n",
       "      <td>0.000992</td>\n",
       "    </tr>\n",
       "    <tr>\n",
       "      <th>7</th>\n",
       "      <td>2</td>\n",
       "      <td>A*</td>\n",
       "      <td>169</td>\n",
       "      <td>421</td>\n",
       "      <td>0.001066</td>\n",
       "    </tr>\n",
       "    <tr>\n",
       "      <th>8</th>\n",
       "      <td>3</td>\n",
       "      <td>DFS</td>\n",
       "      <td>217</td>\n",
       "      <td>337</td>\n",
       "      <td>0.000604</td>\n",
       "    </tr>\n",
       "    <tr>\n",
       "      <th>9</th>\n",
       "      <td>3</td>\n",
       "      <td>BFS</td>\n",
       "      <td>217</td>\n",
       "      <td>487</td>\n",
       "      <td>0.000713</td>\n",
       "    </tr>\n",
       "  </tbody>\n",
       "</table>\n",
       "</div>"
      ],
      "text/plain": [
       "   Maze Algorithm  Distance  Expanded    Time_s\n",
       "0     1       DFS        58      1282  0.004187\n",
       "1     1       BFS        58       126  0.000182\n",
       "2     1  Dijkstra        58       127  0.000227\n",
       "3     1        A*        58       122  0.000247\n",
       "4     2       DFS       169       844  0.001838\n",
       "5     2       BFS       169       515  0.000735\n",
       "6     2  Dijkstra       169       514  0.000992\n",
       "7     2        A*       169       421  0.001066\n",
       "8     3       DFS       217       337  0.000604\n",
       "9     3       BFS       217       487  0.000713"
      ]
     },
     "execution_count": 36,
     "metadata": {},
     "output_type": "execute_result"
    }
   ],
   "source": [
    "# 3) Mostrar los primeros resultados\n",
    "df.head(10)"
   ]
  },
  {
   "cell_type": "code",
   "execution_count": 37,
   "id": "16356082",
   "metadata": {},
   "outputs": [
    {
     "data": {
      "text/html": [
       "<div>\n",
       "<style scoped>\n",
       "    .dataframe tbody tr th:only-of-type {\n",
       "        vertical-align: middle;\n",
       "    }\n",
       "\n",
       "    .dataframe tbody tr th {\n",
       "        vertical-align: top;\n",
       "    }\n",
       "\n",
       "    .dataframe thead th {\n",
       "        text-align: right;\n",
       "    }\n",
       "</style>\n",
       "<table border=\"1\" class=\"dataframe\">\n",
       "  <thead>\n",
       "    <tr style=\"text-align: right;\">\n",
       "      <th></th>\n",
       "      <th>Distance</th>\n",
       "      <th>Expanded</th>\n",
       "      <th>Time_s</th>\n",
       "      <th>Place</th>\n",
       "    </tr>\n",
       "    <tr>\n",
       "      <th>Algorithm</th>\n",
       "      <th></th>\n",
       "      <th></th>\n",
       "      <th></th>\n",
       "      <th></th>\n",
       "    </tr>\n",
       "  </thead>\n",
       "  <tbody>\n",
       "    <tr>\n",
       "      <th>A*</th>\n",
       "      <td>209.44</td>\n",
       "      <td>524.80</td>\n",
       "      <td>0.001222</td>\n",
       "      <td>1.44</td>\n",
       "    </tr>\n",
       "    <tr>\n",
       "      <th>DFS</th>\n",
       "      <td>209.44</td>\n",
       "      <td>751.64</td>\n",
       "      <td>0.001617</td>\n",
       "      <td>2.48</td>\n",
       "    </tr>\n",
       "    <tr>\n",
       "      <th>Dijkstra</th>\n",
       "      <td>209.44</td>\n",
       "      <td>606.12</td>\n",
       "      <td>0.001301</td>\n",
       "      <td>2.76</td>\n",
       "    </tr>\n",
       "    <tr>\n",
       "      <th>BFS</th>\n",
       "      <td>209.44</td>\n",
       "      <td>606.16</td>\n",
       "      <td>0.000934</td>\n",
       "      <td>2.88</td>\n",
       "    </tr>\n",
       "  </tbody>\n",
       "</table>\n",
       "</div>"
      ],
      "text/plain": [
       "           Distance  Expanded    Time_s  Place\n",
       "Algorithm                                     \n",
       "A*           209.44    524.80  0.001222   1.44\n",
       "DFS          209.44    751.64  0.001617   2.48\n",
       "Dijkstra     209.44    606.12  0.001301   2.76\n",
       "BFS          209.44    606.16  0.000934   2.88"
      ]
     },
     "execution_count": 37,
     "metadata": {},
     "output_type": "execute_result"
    }
   ],
   "source": [
    "# 4) Calcular y mostrar el resumen promedio\n",
    "summary = analyze_results(df)\n",
    "summary"
   ]
  },
  {
   "cell_type": "code",
   "execution_count": 38,
   "id": "db207551",
   "metadata": {},
   "outputs": [
    {
     "data": {
      "image/png": "[encoded data removed]",
      "text/plain": [
       "<Figure size 800x400 with 1 Axes>"
      ]
     },
     "metadata": {},
     "output_type": "display_data"
    }
   ],
   "source": [
    "# 5) Gráfico: promedio de nodos expandidos por algoritmo\n",
    "plt.figure(figsize=(8,4))\n",
    "summary['Expanded'].plot.bar()\n",
    "plt.title('Promedio de nodos expandidos')\n",
    "plt.ylabel('Nodos expandidos')\n",
    "plt.xlabel('Algoritmo')\n",
    "plt.tight_layout()\n",
    "plt.show()"
   ]
  },
  {
   "cell_type": "code",
   "execution_count": 39,
   "id": "8b7be3cd",
   "metadata": {},
   "outputs": [
    {
     "data": {
      "image/png": "[encoded data removed]",
      "text/plain": [
       "<Figure size 800x400 with 1 Axes>"
      ]
     },
     "metadata": {},
     "output_type": "display_data"
    }
   ],
   "source": [
    "# 6) Gráfico: promedio de tiempo de ejecución por algoritmo\n",
    "plt.figure(figsize=(8,4))\n",
    "summary['Time_s'].plot.bar()\n",
    "plt.title('Promedio de tiempo (s)')\n",
    "plt.ylabel('Segundos')\n",
    "plt.xlabel('Algoritmo')\n",
    "plt.tight_layout()\n",
    "plt.show()"
   ]
  }
 ],
 "metadata": {
  "kernelspec": {
   "display_name": "Python (venv311)",
   "language": "python",
   "name": "venv311"
  },
  "language_info": {
   "codemirror_mode": {
    "name": "ipython",
    "version": 3
   },
   "file_extension": ".py",
   "mimetype": "text/x-python",
   "name": "python",
   "nbconvert_exporter": "python",
   "pygments_lexer": "ipython3",
   "version": "3.13.3"
  }
 },
 "nbformat": 4,
 "nbformat_minor": 5
}
